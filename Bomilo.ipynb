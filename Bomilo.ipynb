{
 "cells": [
  {
   "cell_type": "markdown",
   "metadata": {},
   "source": [
    "# Hardware Information Scrapping\n",
    "### From Bomilo"
   ]
  },
  {
   "cell_type": "markdown",
   "metadata": {},
   "source": [
    "## Libraries"
   ]
  },
  {
   "cell_type": "code",
   "execution_count": 1,
   "metadata": {},
   "outputs": [],
   "source": [
    "import pandas as pd\n",
    "import numpy as np\n",
    "import matplotlib.pyplot as plt\n",
    "import seaborn as sns\n",
    "\n",
    "%matplotlib inline\n",
    "from urllib.request import urlopen\n",
    "from bs4 import BeautifulSoup\n",
    "import urllib\n",
    "from selenium import webdriver\n",
    "from selenium.webdriver.common.keys import Keys\n",
    "import re\n",
    "from tabulate import tabulate\n",
    "import os\n",
    "from selenium.webdriver.support.wait import WebDriverWait\n",
    "from selenium.webdriver.common.by import By\n",
    "from selenium.webdriver.support import expected_conditions as EC\n",
    "import xlsxwriter"
   ]
  },
  {
   "cell_type": "code",
   "execution_count": 2,
   "metadata": {},
   "outputs": [],
   "source": [
    "workbook = xlsxwriter.Workbook('Ontology Bomilo.xlsx')\n",
    "phone_worksheet = workbook.add_worksheet('Phone')\n",
    "laptop_worksheet = workbook.add_worksheet('Laptop')\n",
    "tablet_worksheet = workbook.add_worksheet('Tablet')\n",
    "cpu_worksheet = workbook.add_worksheet('CPU')\n",
    "ram_worksheet = workbook.add_worksheet('RAM')\n",
    "gpu_worksheet = workbook.add_worksheet('GPU')\n",
    "motherboard_worksheet = workbook.add_worksheet('Motherboard')\n",
    "ssd_worksheet = workbook.add_worksheet('SSD')\n",
    "handsfree_worksheet = workbook.add_worksheet('Handsfree')"
   ]
  },
  {
   "cell_type": "code",
   "execution_count": 3,
   "metadata": {},
   "outputs": [],
   "source": [
    "def scrap(url,keys,worksheet,number):\n",
    "    driver = webdriver.Chrome()\n",
    "    driver.implicitly_wait(30)\n",
    "    driver.get(url)\n",
    "    \n",
    "    dic = {}\n",
    "    worksheet.write(0, 0, \"title\")\n",
    "    col = 2\n",
    "    for k, v in keys.items():\n",
    "        worksheet.write(0, col, v)\n",
    "        col += 1\n",
    "    all_links = driver.find_elements_by_css_selector(\"li a.ftkz\")\n",
    "    links = []\n",
    "    for link in all_links[:number]:\n",
    "        links.append(link.get_attribute('href'))\n",
    "    driver.quit()\n",
    "    row = 1\n",
    "    for link in links[:number]:\n",
    "        url = link\n",
    "        driver = webdriver.Chrome()\n",
    "        driver.get(url)\n",
    "        try:\n",
    "            python_button = driver.find_element_by_css_selector('li.eYX_:nth-of-type(3)')\n",
    "            python_button.click()\n",
    "            element = WebDriverWait(driver, 10).until(\n",
    "                EC.presence_of_element_located((By.CSS_SELECTOR, \"#productPageTabsContainer section .buH6\"))\n",
    "            )\n",
    "\n",
    "            soup = BeautifulSoup(driver.page_source, 'lxml')\n",
    "            title = ' '.join(soup.select(\"header h1.bR4C\")[0].contents[0].split())\n",
    "            if (len(soup.select(\"span._6oBb\")) > 0):\n",
    "                price = soup.select(\"span._6oBb\")[0].contents[0]\n",
    "            else :\n",
    "                price = ''\n",
    "            worksheet.write(row, 0, title)\n",
    "            worksheet.write(row, 1, price)\n",
    "            lis = soup.select(\"#productPageTabsContainer section .buH6\")\n",
    "        except:\n",
    "            continue\n",
    "        for li in lis:\n",
    "            key = ' '.join(li.contents[0].contents[0].split())\n",
    "            key = key.replace(\":\",\"\")\n",
    "            try :\n",
    "                value = ' '.join(li.contents[1].contents[0].contents[0].split())\n",
    "            except:\n",
    "                continue\n",
    "            for k, v in keys.items():\n",
    "                if(key == k):\n",
    "                    dic[v] = value\n",
    "        print(dic)\n",
    "        col = 2\n",
    "        for k, v in keys.items():\n",
    "            if v in dic:\n",
    "                worksheet.write(row, col, dic[v])\n",
    "            else :\n",
    "                worksheet.write(row, col, '')\n",
    "            col += 1\n",
    "        row += 1\n",
    "        driver.quit() "
   ]
  },
  {
   "cell_type": "markdown",
   "metadata": {},
   "source": [
    "## PHONE"
   ]
  },
  {
   "cell_type": "code",
   "execution_count": 4,
   "metadata": {
    "scrolled": true
   },
   "outputs": [
    {
     "name": "stdout",
     "output_type": "stream",
     "text": [
      "{'weight': '0.165', 'display': '5.60', 'cpu': 'HiSilicon Kirin', 'ram': '3GB', 'memory': '32GB', 'resolution': '1080x2280 FHD+', 'camera': '13.00', 'network': 'LTE-4G|HSPA-3.5G|GSM-2G|Infra Red|GPS|WLAN-WiFi|NFC|Bluetooth', 'os': 'اندروید | Android'}\n",
      "{'weight': '0.208', 'display': '6.50', 'cpu': 'ARM', 'ram': '4GB', 'memory': '256GB', 'resolution': '2688x1242', 'camera': '12.00', 'network': 'LTE-4G|HSPA-3.5G|GSM-2G|GPS|WLAN-WiFi|NFC|Bluetooth', 'os': 'اندروید | Android'}\n",
      "{'weight': '0.175', 'display': '5.00', 'cpu': 'MediaTek', 'ram': '1.5GB', 'memory': '8GB', 'resolution': '480x854 FWVGA', 'camera': '8.00', 'network': 'LTE-4G|HSPA-3.5G|UMTS-3G|GSM-2G|Wireless|Bluetooth', 'os': 'اندروید | Android', 'cpu frequency': '1.10'}\n",
      "{'weight': '0.3', 'display': '5.93', 'cpu': 'HiSilicon Kirin', 'ram': '4GB', 'memory': '64GB', 'resolution': '1080x2160', 'camera': '16.00', 'network': 'LTE-4G|HSPA-3.5G|GSM-2G|GPS|WLAN-WiFi|Bluetooth', 'os': 'اندروید | Android', 'cpu frequency': '2.36'}\n",
      "{'weight': '0.163', 'display': '5.20', 'cpu': 'Qualcomm Snapdragon', 'ram': '4GB', 'memory': '64GB', 'resolution': '1080x1920 FHD', 'camera': '16.00', 'network': 'LTE-4G|WLAN-WiFi|NFC|Bluetooth', 'os': 'اندروید | Android', 'cpu frequency': '2.36'}\n",
      "{'weight': '0.144', 'display': '5.20', 'cpu': 'MediaTek', 'ram': '3GB', 'memory': '32GB', 'resolution': '1080x1920 FHD', 'camera': '16.00', 'network': 'GPS|Bluetooth', 'os': 'اندروید | Android', 'cpu frequency': '625.00'}\n",
      "{'weight': '0.186', 'display': '5.90', 'cpu': 'HiSilicon Kirin', 'ram': '4GB', 'memory': '64GB', 'resolution': '1440x2560 QHD', 'camera': '16.00', 'network': 'LTE-4G|HSPA-3.5G|UMTS-3G|GSM-2G|Wireless|GPS|WLAN-WiFi|NFC|Bluetooth', 'os': 'اندروید | Android', 'cpu frequency': '625.00'}\n",
      "{'weight': '0.186', 'display': '5.90', 'cpu': 'HiSilicon Kirin', 'ram': '4GB', 'memory': '64GB', 'resolution': '1440x2560 QHD', 'camera': '16.00', 'network': 'LTE-4G|HSPA-3.5G|UMTS-3G|GSM-2G|Wireless|GPS|WLAN-WiFi|NFC|Bluetooth', 'os': 'اندروید | Android', 'cpu frequency': '625.00'}\n",
      "{'weight': '0.153', 'display': '5.00', 'cpu': 'Qualcomm Snapdragon', 'ram': '1.5GB', 'memory': '16GB', 'resolution': '540x960 qHD', 'camera': '8.00', 'network': 'Wireless|Bluetooth', 'os': 'اندروید | Android', 'cpu frequency': '1.40'}\n",
      "{'weight': '0.3', 'display': '5.93', 'cpu': 'HiSilicon Kirin', 'ram': '4GB', 'memory': '64GB', 'resolution': '1080x2160', 'camera': '16.00', 'network': 'LTE-4G|HSPA-3.5G|GSM-2G|GPS|WLAN-WiFi|Bluetooth', 'os': 'اندروید | Android', 'cpu frequency': '2.36'}\n",
      "{'weight': '0.15', 'display': '5.90', 'cpu': 'Qualcomm Snapdragon', 'ram': '3GB', 'memory': '32GB', 'resolution': '720x1440 HD+', 'camera': '16.00', 'network': 'LTE-4G|HSPA-3.5G|UMTS-3G|GSM-2G|Wireless|GPS|WLAN-WiFi|NFC|Bluetooth', 'os': 'اندروید | Android', 'cpu frequency': '1.40'}\n",
      "{'weight': '0.168', 'display': '5.00', 'cpu': 'MediaTek', 'ram': '1 GB', 'memory': '8GB', 'resolution': '1280x800 WXGA', 'camera': '5.00', 'network': 'HSPA-3.5G|GSM-2G|GPS|WLAN-WiFi|Bluetooth', 'os': 'اندروید | Android', 'cpu frequency': '1.30'}\n",
      "{'weight': '0.109', 'display': '4.60', 'cpu': 'MediaTek', 'ram': '1GB', 'memory': '16GB', 'resolution': '540x960 qHD', 'camera': '8.00', 'network': 'UMTS-3G|GSM-2G|WLAN-WiFi|Bluetooth', 'os': 'اندروید | Android', 'cpu frequency': '1.00'}\n",
      "{'weight': '0.167', 'display': '5.20', 'cpu': 'Qualcomm Snapdragon', 'ram': '1 GB', 'memory': '8GB', 'resolution': '480x854 FWVGA', 'camera': '5.00', 'network': 'LTE-4G|HSPA-3.5G|GSM-2G|Wireless|GPS|Bluetooth', 'os': 'اندروید | Android', 'cpu frequency': '1.30'}\n",
      "{'weight': '0.21', 'display': '5.50', 'cpu': 'MediaTek', 'ram': '1 GB', 'memory': '8GB', 'resolution': '1280x800 WXGA', 'camera': '5.00', 'network': 'HSPA-3.5G|GSM-2G|GPS|WLAN-WiFi|Bluetooth', 'os': 'اندروید | Android', 'cpu frequency': '1.10'}\n",
      "{'weight': '0.123', 'display': '4.00', 'cpu': 'MediaTek', 'ram': '1 GB', 'memory': '8GB', 'resolution': '480x800 WVGA', 'camera': '5.00', 'network': 'LTE-4G|HSPA-3.5G|GSM-2G|GPS|WLAN-WiFi|Bluetooth', 'os': 'اندروید | Android', 'cpu frequency': '1.10'}\n",
      "{'weight': '0.16', 'display': '5.20', 'cpu': 'MediaTek', 'ram': '1 GB', 'memory': '8GB', 'resolution': '480x854 FWVGA', 'camera': '5.00', 'network': 'WLAN-WiFi|Bluetooth', 'os': 'اندروید | Android', 'cpu frequency': '1.10'}\n",
      "{'weight': '0.13', 'display': '5.20', 'cpu': 'Qualcomm Snapdragon', 'ram': '2 GB', 'memory': '32GB', 'resolution': '1080x1920 FHD', 'camera': '13.00', 'network': 'WLAN-WiFi|Bluetooth', 'os': 'اندروید | Android', 'cpu frequency': '1.40'}\n",
      "{'weight': '0.142', 'display': '5.50', 'cpu': 'HiSilicon Kirin', 'ram': '2 GB', 'memory': '16GB', 'resolution': '720x1440 HD+', 'camera': '13.00', 'network': 'LTE-4G|HSPA-3.5G|UMTS-3G|GSM-2G|GPS|WLAN-WiFi|Bluetooth', 'os': 'اندروید | Android', 'cpu frequency': '1.40'}\n",
      "{'weight': '0.165', 'display': '5.99', 'cpu': 'Qualcomm Snapdragon', 'ram': '3GB', 'memory': '32GB', 'resolution': '720x1440 HD+', 'camera': '13.00', 'network': 'LTE-4G|HSPA-3.5G|GSM-2G|GPS|WLAN-WiFi|Bluetooth', 'os': 'اندروید | Android', 'cpu frequency': '1.80'}\n",
      "{'weight': '0.15', 'display': '5.70', 'cpu': 'Qualcomm Snapdragon', 'ram': '2 GB', 'memory': '16GB', 'resolution': '720x1440 HD+', 'camera': '13.00', 'network': 'LTE-4G|HSPA-3.5G|GSM-2G|GPS|WLAN-WiFi|Bluetooth', 'os': 'اندروید | Android', 'cpu frequency': '1.40'}\n",
      "{'weight': '0.15', 'display': '5.90', 'cpu': 'Qualcomm Snapdragon', 'ram': '3GB', 'memory': '32GB', 'resolution': '720x1440 HD+', 'camera': '13.00', 'network': 'LTE-4G|HSPA-3.5G|UMTS-3G|GSM-2G|Wireless|GPS|WLAN-WiFi|NFC|Bluetooth', 'os': 'اندروید | Android', 'cpu frequency': '1.40'}\n",
      "{'weight': '0.15', 'display': '5.90', 'cpu': 'Qualcomm Snapdragon', 'ram': '3GB', 'memory': '32GB', 'resolution': '720x1440 HD+', 'camera': '13.00', 'network': 'LTE-4G|HSPA-3.5G|UMTS-3G|GSM-2G|Wireless|GPS|WLAN-WiFi|NFC|Bluetooth', 'os': 'اندروید | Android', 'cpu frequency': '1.40'}\n",
      "{'weight': '0.165', 'display': '5.99', 'cpu': 'Qualcomm Snapdragon', 'ram': '3GB', 'memory': '32GB', 'resolution': '720x1440 HD+', 'camera': '13.00', 'network': 'LTE-4G|HSPA-3.5G|GSM-2G|GPS|WLAN-WiFi|Bluetooth', 'os': 'اندروید | Android', 'cpu frequency': '1.80'}\n",
      "{'weight': '0.153', 'display': '5.00', 'cpu': 'Qualcomm Snapdragon', 'ram': '1.5GB', 'memory': '16GB', 'resolution': '540x960 qHD', 'camera': '8.00', 'network': 'Wireless|Bluetooth', 'os': 'اندروید | Android', 'cpu frequency': '1.40'}\n",
      "{'weight': '0.3', 'display': '5.93', 'cpu': 'HiSilicon Kirin', 'ram': '4GB', 'memory': '64GB', 'resolution': '1080x2160', 'camera': '16.00', 'network': 'LTE-4G|HSPA-3.5G|GSM-2G|GPS|WLAN-WiFi|Bluetooth', 'os': 'اندروید | Android', 'cpu frequency': '2.36'}\n",
      "{'weight': '0.18', 'display': '5.99', 'cpu': 'Qualcomm Snapdragon', 'ram': '4GB', 'memory': '64GB', 'resolution': '1080x2160', 'camera': '13.00', 'network': 'LTE-4G|GPS|WLAN-WiFi|Bluetooth', 'os': 'اندروید | Android', 'cpu frequency': '1.80'}\n",
      "{'weight': '0.175', 'display': '5.00', 'cpu': 'MediaTek', 'ram': '1 GB', 'memory': '8GB', 'resolution': '480x854 FWVGA', 'camera': '8.00', 'network': 'UMTS-3G|GSM-2G|Bluetooth', 'os': 'اندروید | Android', 'cpu frequency': '1.30'}\n",
      "{'weight': '0.149', 'display': '5.80', 'cpu': 'Exynos', 'ram': '4GB', 'memory': '64GB', 'resolution': '2960x1440', 'camera': '12.00', 'network': 'Wireless|NFC|Bluetooth', 'os': 'اندروید | Android', 'cpu frequency': '1.30'}\n",
      "{'weight': '0.26', 'display': '7.00', 'cpu': 'MediaTek', 'ram': '2GB', 'memory': '16GB', 'resolution': '720x1280 HD', 'camera': '5.00', 'network': 'LTE-4G|HSPA-3.5G|GSM-2G|GPS|WLAN-WiFi|Bluetooth', 'os': 'اندروید | Android', 'cpu frequency': '1.40'}\n",
      "{'weight': '0.186', 'display': '5.90', 'cpu': 'HiSilicon Kirin', 'ram': '4GB', 'memory': '64GB', 'resolution': '1440x2560 QHD', 'camera': '5.00', 'network': 'LTE-4G|HSPA-3.5G|UMTS-3G|GSM-2G|Wireless|GPS|WLAN-WiFi|NFC|Bluetooth', 'os': 'اندروید | Android', 'cpu frequency': '1.40'}\n",
      "{'weight': '0.178', 'display': '6.00', 'cpu': 'HiSilicon Kirin', 'ram': '6GB', 'memory': '128GB', 'resolution': '1080x2160', 'camera': '20.00', 'network': 'LTE-4G|HSPA-3.5G|UMTS-3G|GSM-2G|GPS|WLAN-WiFi|NFC|Bluetooth', 'os': 'اندروید | Android', 'cpu frequency': '1.40'}\n",
      "{'weight': '0.208', 'display': '6.50', 'cpu': 'ARM', 'ram': '4GB', 'memory': '256GB', 'resolution': '2688x1242', 'camera': '12.00', 'network': 'LTE-4G|HSPA-3.5G|GSM-2G|GPS|WLAN-WiFi|NFC|Bluetooth', 'os': 'آی او اس | iOS', 'cpu frequency': '1.40'}\n"
     ]
    },
    {
     "name": "stdout",
     "output_type": "stream",
     "text": [
      "{'weight': '0.175', 'display': '5.00', 'cpu': 'MediaTek', 'ram': '1 GB', 'memory': '8GB', 'resolution': '480x854 FWVGA', 'camera': '8.00', 'network': 'UMTS-3G|GSM-2G|Bluetooth', 'os': 'اندروید | Android', 'cpu frequency': '1.30'}\n",
      "{'weight': '0.123', 'display': '4.00', 'cpu': 'MediaTek', 'ram': '1 GB', 'memory': '8GB', 'resolution': '480x800 WVGA', 'camera': '5.00', 'network': 'LTE-4G|HSPA-3.5G|GSM-2G|GPS|WLAN-WiFi|Bluetooth', 'os': 'اندروید | Android', 'cpu frequency': '1.10'}\n",
      "{'weight': '0.176', 'display': '5.00', 'cpu': 'MediaTek', 'ram': '1 GB', 'memory': '16GB', 'resolution': '480x854 FWVGA', 'camera': '8.00', 'network': 'LTE-4G|HSPA-3.5G|GSM-2G|GPS|WLAN-WiFi|Bluetooth', 'os': 'اندروید | Android', 'cpu frequency': '1.30'}\n"
     ]
    }
   ],
   "source": [
    "url = 'https://www.bamilo.com/category/smartphone/?source=gfm'\n",
    "keys = {\n",
    "    'وزن (کیلوگرم)':'weight',\n",
    "    'سری پردازنده مرکزی':'cpu',\n",
    "    'فرکانس پردازنده مرکزی (گیگاهرتز)':'cpu frequency',\n",
    "    'حافظه داخلی':'memory',\n",
    "    'حافظه RAM':'ram',\n",
    "    'اندازه صفحه نمایش (اینچ)':'display',\n",
    "    'وضوح صفحه نمایش':'resolution',\n",
    "    'کیفیت دوربین اصلی (مگاپیکسل)':'camera',\n",
    "    'اتصالات بی سیم':'network',\n",
    "    'سیستم عامل':'os'\n",
    "}\n",
    "scrap(url,keys,phone_worksheet,50)"
   ]
  },
  {
   "cell_type": "markdown",
   "metadata": {},
   "source": [
    "## Laptop"
   ]
  },
  {
   "cell_type": "code",
   "execution_count": 5,
   "metadata": {},
   "outputs": [
    {
     "name": "stdout",
     "output_type": "stream",
     "text": [
      "{'weight': '1', 'display': '11.00', 'cpu': '2.00', 'harddrive': '32GB', 'gpu': 'HD Graphics', 'resolution': '1366x768 WXGA'}\n",
      "{'weight': '1.4', 'display': '13.90', 'cpu': '2.70', 'harddrive': '256GB', 'gpu': 'Intel HD Graphics 620', 'resolution': '1080x1920 FHD', 'vram': '1GB'}\n",
      "{'weight': '2.2', 'display': '15.60', 'cpu': '2.70', 'harddrive': '1TB', 'gpu': 'AMD Radeon R2', 'resolution': '1366x768 WXGA', 'vram': '2GB'}\n",
      "{'weight': '2.985', 'display': '15.60', 'cpu': '2.70', 'harddrive': '500GB', 'gpu': 'Intel HD Graphics 520', 'resolution': '1366x768 WXGA', 'vram': '2GB'}\n",
      "{'weight': '2.2', 'display': '15.60', 'cpu': '3.40', 'harddrive': '1TB', 'gpu': 'Nvidia Geforce MX150 DDR5', 'resolution': '1080x1920 FHD', 'vram': '2GB'}\n",
      "{'weight': '2.2', 'display': '15.60', 'cpu': '3.60', 'harddrive': '1TB', 'gpu': 'AMD Radeon R5 M530', 'resolution': '1080x1920 FHD', 'vram': '4GB'}\n",
      "{'weight': '2.2', 'display': '15.60', 'cpu': '3.40', 'harddrive': '1TB', 'gpu': 'AMD Radeon 530 Graphics', 'resolution': '1080x1920 FHD', 'vram': '4GB'}\n",
      "{'weight': '2.6', 'display': '15.60', 'cpu': '3.80', 'harddrive': '1TB', 'gpu': 'NVIDIA GTX 1050 TI', 'resolution': '1080x1920 FHD', 'vram': '4GB'}\n",
      "{'weight': '1.53', 'display': '14.00', 'cpu': '1.80', 'harddrive': '64GB', 'gpu': 'Intel HD Graphics', 'resolution': '1080x1920 FHD', 'vram': '1GB'}\n",
      "{'weight': '13', 'display': '14.00', 'cpu': '2.30', 'harddrive': '320GB', 'gpu': 'Intel HD Graphics', 'resolution': '1024x768 XGA', 'vram': '1GB'}\n",
      "{'weight': '2.4', 'display': '15.60', 'cpu': '4.00', 'harddrive': '1TB', 'gpu': 'GeForce MX130', 'resolution': '1366x768 WXGA', 'vram': '2GB'}\n",
      "{'weight': '1.89', 'display': '15.60', 'cpu': '1.60', 'harddrive': '1TB', 'gpu': 'NVIDIA Geforce mx130', 'resolution': '1080x1920 FHD', 'vram': '2GB'}\n",
      "{'weight': '1.9', 'display': '15.60', 'cpu': '1.60', 'harddrive': '1TB', 'gpu': 'Nvidia GeForce MX130', 'resolution': '1366x768 WXGA', 'vram': '2GB'}\n",
      "{'weight': '2', 'display': '15.60', 'cpu': '2.70', 'harddrive': '1TB', 'gpu': 'Nvidia GeForce MX130', 'resolution': '1080x1920 FHD', 'vram': '2GB'}\n",
      "{'weight': '1.53', 'display': '14.00', 'cpu': '1.80', 'harddrive': '32GB', 'gpu': 'Intel 520 Graphics', 'resolution': '1080x1920 FHD', 'vram': '1GB'}\n",
      "{'weight': '2.1', 'display': '15.60', 'cpu': '2.50', 'harddrive': '1TB', 'gpu': 'AMD Radeon™ 520 Graphics (2 GB DDR3 dedicated)', 'resolution': '1366x768 WXGA', 'vram': '2GB'}\n",
      "{'weight': '2.2', 'display': '15.60', 'cpu': '1.10', 'harddrive': '1TB', 'gpu': 'AMD Radeon 530 GDDR5', 'resolution': '1366x768 WXGA', 'vram': '2GB'}\n",
      "{'weight': '2.3', 'display': '15.60', 'cpu': '1.10', 'harddrive': '1TB', 'gpu': 'Nvidia Geforce MX130 GDDR5', 'resolution': '1080x1920 FHD', 'vram': '2GB'}\n",
      "{'weight': '2', 'display': '15.60', 'cpu': '2.50', 'harddrive': '500GB', 'gpu': 'Nvidia GT810', 'resolution': '720x1280 HD', 'vram': '2GB'}\n",
      "{'weight': '2.15', 'display': '15.60', 'cpu': '2.80', 'harddrive': '1TB', 'gpu': 'Nvidia Geforce 940MX DDR5', 'resolution': '1080x1920 FHD', 'vram': '2GB'}\n",
      "{'weight': '2.2', 'display': '15.60', 'cpu': '2.50', 'harddrive': '1TB', 'gpu': 'GeForce 920MX', 'resolution': '1024x768 XGA', 'vram': '2GB'}\n",
      "{'weight': '1.89', 'display': '15.60', 'cpu': '1.80', 'harddrive': '1TB', 'gpu': 'NVIDIA Geforce mx130', 'resolution': '1080x1920 FHD', 'vram': '2GB'}\n",
      "{'weight': '2.2', 'display': '15.60', 'cpu': '2.20', 'harddrive': '1TB', 'gpu': 'Radeon™ R2 Graphics', 'resolution': '1024x768 XGA', 'vram': '2GB'}\n",
      "{'weight': '1.9', 'display': '15.60', 'cpu': '1.60', 'harddrive': '1TB', 'gpu': 'Nvidia GeForce MX130', 'resolution': '1366x768 WXGA', 'vram': '2GB'}\n",
      "{'weight': '2', 'display': '15.60', 'cpu': '1.60', 'harddrive': '1TB', 'gpu': 'GeForce 920MX', 'resolution': '1080x1920 FHD', 'vram': '2GB'}\n",
      "{'weight': '1.8', 'display': '15.60', 'cpu': '1.60', 'harddrive': '500GB', 'gpu': 'Intel HD Graphics 400', 'resolution': '720x1280 HD', 'vram': '1GB'}\n",
      "{'weight': '2.7', 'display': '15.60', 'cpu': '1.10', 'harddrive': '1TB', 'gpu': 'AMD RADEON', 'resolution': '1366x768 WXGA', 'vram': '2GB'}\n",
      "{'weight': '2', 'display': '15.60', 'cpu': '2.50', 'harddrive': '500GB', 'gpu': 'Nvidia GT810', 'resolution': '720x1280 HD', 'vram': '2GB'}\n",
      "{'weight': '2.2', 'display': '15.60', 'cpu': '2.50', 'harddrive': '1TB', 'gpu': 'Nvidia GT810', 'resolution': '720x1280 HD', 'vram': '2GB'}\n",
      "{'weight': '2.1', 'display': '15.60', 'cpu': '2.00', 'harddrive': '1TB', 'gpu': 'Intel HD Graphics', 'resolution': '1080x1920 FHD', 'vram': '1GB'}\n",
      "{'weight': '2.2', 'display': '15.60', 'cpu': '2.50', 'harddrive': '1TB', 'gpu': 'NVIDIA GeForce 940MX', 'resolution': '1080x1920 FHD', 'vram': '2GB'}\n",
      "{'weight': '2.4', 'display': '15.60', 'cpu': '2.50', 'harddrive': '500GB', 'gpu': 'Radeon R2 Graphics', 'resolution': '1366x768 WXGA', 'vram': '2GB'}\n",
      "{'weight': '1.9', 'display': '15.60', 'cpu': '2.50', 'harddrive': '500GB', 'gpu': 'Intel HD', 'resolution': '720x1280 HD', 'vram': '2GB'}\n",
      "{'weight': '2.5', 'display': '15.60', 'cpu': '3.00', 'harddrive': '1TB', 'gpu': 'AMD Radeon 530M', 'resolution': '1080x1920 FHD', 'vram': '2GB'}\n",
      "{'weight': '1.24', 'display': '13.30', 'cpu': '2.80', 'harddrive': '256GB', 'gpu': 'Intel® HD Graphics 615', 'resolution': '1080x1920 FHD', 'vram': '1GB'}\n",
      "{'weight': '1.3', 'display': '11.60', 'cpu': '1.10', 'harddrive': '500GB', 'gpu': 'Intel HD Graphics', 'resolution': '1366x768 WXGA', 'vram': '1GB'}\n"
     ]
    }
   ],
   "source": [
    "url = \"https://www.bamilo.com/category/n-laptops?source=gfm\"\n",
    "keys = {\n",
    "    \"وزن (کیلوگرم)\":\"weight\",\n",
    "    \"سری پردازنده مرکزی:\":\"cpu\",\n",
    "    \"فرکانس پردازنده مرکزی (گیگاهرتز)\":\"cpu\",\n",
    "    \"حافظه داخلی\":\"harddrive\",   \n",
    "    \"پردازنده گرافیک\":\"gpu\",\n",
    "    \"حافظه پردازنده گرافیک\":\"vram\",\n",
    "    \"اندازه صفحه نمایش (اینچ)\":\"display\",\n",
    "    \"وضوح صفحه نمایش\":\"resolution\",\n",
    "}\n",
    "scrap(url,keys,laptop_worksheet,50)"
   ]
  },
  {
   "cell_type": "markdown",
   "metadata": {},
   "source": [
    "## Tablet"
   ]
  },
  {
   "cell_type": "code",
   "execution_count": 6,
   "metadata": {},
   "outputs": [
    {
     "name": "stdout",
     "output_type": "stream",
     "text": [
      "{'weight': '0.69', 'display': '10.10', 'cpu': 'Intel Atom', 'cpu frequency': '2.40', 'ram': '4GB', 'memory': '64GB', 'resolution': '1920x1200 WUXGA', 'camera': '8.00', 'network': 'GPS|WLAN-WiFi|Bluetooth', 'os': 'ویندوز | Windows'}\n",
      "{'weight': '0.69', 'display': '10.10', 'cpu': 'Intel Atom', 'cpu frequency': '2.40', 'ram': '4GB', 'memory': '64GB', 'resolution': '1920x1200 WUXGA', 'camera': '8.00', 'network': 'LTE-4G|HSPA-3.5G|UMTS-3G|GSM-2G|GPS|WLAN-WiFi|Bluetooth', 'os': 'اندروید | Android'}\n",
      "{'weight': '0.6', 'display': '10.00', 'cpu': 'Intel Atom', 'cpu frequency': '1.80', 'ram': '2GB', 'memory': '64GB', 'resolution': '1366x768 WXGA', 'camera': '8.00', 'network': 'GPS|WLAN-WiFi|Bluetooth', 'os': 'ویندوز | Windows'}\n",
      "{'weight': '0.35', 'display': '8.00', 'cpu': 'Qualcomm Snapdragon', 'cpu frequency': '1.20', 'ram': '2GB', 'memory': '16GB', 'resolution': '1280x800 WXGA', 'camera': '5.00', 'network': 'LTE-4G|HSPA-3.5G|GSM-2G|WLAN-WiFi|Bluetooth', 'os': 'آی او اس | iOS'}\n",
      "{'weight': '0.37', 'display': '8.00', 'cpu': 'Intel Atom', 'cpu frequency': '1.20', 'ram': '1 GB', 'memory': '32GB', 'resolution': '1280x800 WXGA', 'camera': '2.00', 'network': 'WLAN-WiFi|Bluetooth', 'os': 'ویندوز | Windows'}\n",
      "{'weight': '0.3', 'display': '7.00', 'cpu': 'MediaTek', 'cpu frequency': '1.30', 'ram': '1GB', 'memory': '8GB', 'resolution': '1024x600 WSVGA', 'camera': '2.00', 'network': 'HSPA-3.5G|GSM-2G|GPS|WLAN-WiFi|Bluetooth', 'os': 'اندروید | Android'}\n",
      "{'weight': '0.4', 'display': '9.00', 'cpu': 'ARM', 'cpu frequency': '1.20', 'ram': '512MB', 'memory': '8GB', 'resolution': '480x800 WVGA', 'camera': '2.00', 'network': 'Wireless|Bluetooth', 'os': 'اندروید | Android'}\n",
      "{'weight': '0.4', 'display': '9.00', 'cpu': 'ARM', 'cpu frequency': '1.20', 'ram': '512MB', 'memory': '8GB', 'resolution': '480x800 WVGA', 'camera': '2.00', 'network': 'Wireless|Bluetooth', 'os': 'اندروید | Android'}\n",
      "{'weight': '0.4', 'display': '9.00', 'cpu': 'ARM', 'cpu frequency': '1.20', 'ram': '512MB', 'memory': '8GB', 'resolution': '480x800 WVGA', 'camera': '2.00', 'network': 'Wireless|Bluetooth', 'os': 'اندروید | Android'}\n",
      "{'weight': '0.4', 'display': '9.00', 'cpu': 'ARM', 'cpu frequency': '1.20', 'ram': '512MB', 'memory': '8GB', 'resolution': '480x800 WVGA', 'camera': '2.00', 'network': 'Wireless|Bluetooth', 'os': 'اندروید | Android'}\n",
      "{'weight': '0.4', 'display': '7.00', 'cpu': 'ARM', 'cpu frequency': '1.20', 'ram': '512MB', 'memory': '8GB', 'resolution': '1280x800 WXGA', 'camera': '2.00', 'network': 'Wireless|Bluetooth', 'os': 'اندروید | Android'}\n",
      "{'weight': '0.4', 'display': '7.00', 'cpu': 'ARM', 'cpu frequency': '1.20', 'ram': '512MB', 'memory': '8GB', 'resolution': '1280x800 WXGA', 'camera': '2.00', 'network': 'Wireless|Bluetooth', 'os': 'اندروید | Android'}\n",
      "{'weight': '0.4', 'display': '7.00', 'cpu': 'ARM', 'cpu frequency': '1.20', 'ram': '512MB', 'memory': '8GB', 'resolution': '1280x800 WXGA', 'camera': '2.00', 'network': 'Wireless|Bluetooth', 'os': 'اندروید | Android'}\n",
      "{'weight': '0.4', 'display': '7.00', 'cpu': 'ARM', 'cpu frequency': '1.20', 'ram': '512MB', 'memory': '4GB', 'resolution': '480x800 WVGA', 'camera': '2.00', 'network': 'Wireless|Bluetooth', 'os': 'اندروید | Android'}\n",
      "{'weight': '0.3', 'display': '7.00', 'cpu': 'ARM', 'cpu frequency': '1.20', 'ram': '512MB', 'memory': '4GB', 'resolution': '1024x600 WSVGA', 'camera': '2.00', 'network': 'Wireless|Bluetooth', 'os': 'اندروید | Android'}\n",
      "{'weight': '0.4', 'display': '7.00', 'cpu': 'ARM', 'cpu frequency': '1.20', 'ram': '512MB', 'memory': '4GB', 'resolution': '1024x600 WSVGA', 'camera': '2.00', 'network': 'Wireless|Bluetooth', 'os': 'اندروید | Android'}\n",
      "{'weight': '0.4', 'display': '7.00', 'cpu': 'ARM', 'cpu frequency': '1.20', 'ram': '512MB', 'memory': '4GB', 'resolution': '1024x600 WSVGA', 'camera': '2.00', 'network': 'Wireless|Bluetooth', 'os': 'اندروید | Android'}\n",
      "{'weight': '0.4', 'display': '7.00', 'cpu': 'ARM', 'cpu frequency': '1.20', 'ram': '512MB', 'memory': '4GB', 'resolution': '480x800 WVGA', 'camera': '2.00', 'network': 'Wireless|Bluetooth', 'os': 'اندروید | Android'}\n",
      "{'weight': '0.3', 'display': '7.00', 'cpu': 'ARM', 'cpu frequency': '1.20', 'ram': '512MB', 'memory': '4GB', 'resolution': '480x800 WVGA', 'camera': '2.00', 'network': 'Wireless|Bluetooth', 'os': 'اندروید | Android'}\n",
      "{'weight': '0.3', 'display': '7.00', 'cpu': 'ARM', 'cpu frequency': '1.20', 'ram': '512MB', 'memory': '4GB', 'resolution': '480x800 WVGA', 'camera': '2.00', 'network': 'Wireless|Bluetooth', 'os': 'اندروید | Android'}\n",
      "{'weight': '0.45', 'display': '9.70', 'cpu': 'Qualcomm Snapdragon', 'cpu frequency': '1.20', 'ram': '2 GB', 'memory': '16GB', 'resolution': '1024x768 XGA', 'camera': '5.00', 'network': 'LTE-4G|HSPA-3.5G|UMTS-3G|GSM-2G|GPS|WLAN-WiFi|Bluetooth', 'os': 'اندروید | Android'}\n",
      "{'weight': '0.3', 'display': '7.00', 'cpu': 'ARM', 'cpu frequency': '1.20', 'ram': '512MB', 'memory': '4GB', 'resolution': '480x800 WVGA', 'camera': '5.00', 'network': 'Wireless|Bluetooth', 'os': 'اندروید | Android'}\n",
      "{'weight': '0.4', 'display': '7.00', 'cpu': 'ARM', 'cpu frequency': '1.30', 'ram': '1 GB', 'memory': '8GB', 'resolution': '1280x800 WXGA', 'camera': '5.00', 'network': 'Wireless|Bluetooth', 'os': 'اندروید | Android'}\n",
      "{'weight': '0.77', 'display': '12.30', 'cpu': 'Intel Core i5', 'cpu frequency': '2.60', 'ram': '8GB', 'memory': '256GB', 'resolution': '2736x1824', 'camera': '8.00', 'network': 'WLAN-WiFi|Bluetooth', 'os': 'ویندوز | Windows'}\n",
      "{'weight': '0.254', 'display': '7.00', 'cpu': 'MediaTek', 'cpu frequency': '1.30', 'ram': '1GB', 'memory': '8GB', 'resolution': '1024x600 WSVGA', 'camera': '2.00', 'network': 'HSPA-3.5G|GPS|WLAN-WiFi|Bluetooth', 'os': 'اندروید | Android'}\n",
      "{'weight': '0.784', 'display': '12.30', 'cpu': 'Intel Core i7', 'cpu frequency': '2.50', 'ram': '8GB', 'memory': '256GB', 'resolution': '2736x1824', 'camera': '8.00', 'network': 'WLAN-WiFi|Bluetooth', 'os': 'ویندوز | Windows'}\n",
      "{'weight': '0.254', 'display': '7.00', 'cpu': 'MediaTek', 'cpu frequency': '1.30', 'ram': '1GB', 'memory': '16GB', 'resolution': '1024x600 WSVGA', 'camera': '2.00', 'network': 'LTE-4G|HSPA-3.5G|GPS|WLAN-WiFi|Bluetooth', 'os': 'اندروید | Android'}\n",
      "{'weight': '0.283', 'display': '7.50', 'cpu': 'Spreadtrum', 'cpu frequency': '1.50', 'ram': '1.5GB', 'memory': '8GB', 'resolution': '1280x800 WXGA', 'camera': '5.00', 'network': 'Wireless|Bluetooth', 'os': 'اندروید | Android'}\n",
      "{'weight': '0.3', 'display': '7.00', 'cpu': 'ARM', 'cpu frequency': '1.50', 'ram': '512MB', 'memory': '4GB', 'resolution': '480x800 WVGA', 'camera': '5.00', 'network': 'Wireless|Bluetooth', 'os': 'اندروید | Android'}\n",
      "{'weight': '0.35', 'display': '8.00', 'cpu': 'MediaTek', 'cpu frequency': '1.10', 'ram': '1 GB', 'memory': '16GB', 'resolution': '720x1280 HD', 'camera': '5.00', 'network': 'LTE-4G|HSPA-3.5G|WLAN-WiFi|Bluetooth', 'os': 'اندروید | Android'}\n",
      "{'weight': '0.3', 'display': '7.00', 'cpu': 'ARM', 'cpu frequency': '1.10', 'ram': '512MB', 'memory': '8GB', 'resolution': '480x800 WVGA', 'camera': '5.00', 'network': 'Wireless|Bluetooth', 'os': 'اندروید | Android'}\n",
      "{'weight': '0.478', 'display': '9.70', 'cpu': 'ARM', 'cpu frequency': '2.34', 'ram': '2 GB', 'memory': '8GB', 'resolution': '1536x2048 QXGA', 'camera': '8.00', 'network': 'LTE-4G|GPS|WLAN-WiFi|Bluetooth', 'os': 'آی او اس | iOS'}\n",
      "{'weight': '0.478', 'display': '9.70', 'cpu': 'ARM', 'cpu frequency': '2.34', 'ram': '2 GB', 'memory': '8GB', 'resolution': '1536x2048 QXGA', 'camera': '8.00', 'network': 'LTE-4G|GPS|WLAN-WiFi|Bluetooth', 'os': 'آی او اس | iOS'}\n",
      "{'weight': '0.478', 'display': '9.70', 'cpu': 'ARM', 'cpu frequency': '2.34', 'ram': '2 GB', 'memory': '8GB', 'resolution': '1536x2048 QXGA', 'camera': '8.00', 'network': 'LTE-4G|GPS|WLAN-WiFi|Bluetooth', 'os': 'آی او اس | iOS'}\n",
      "{'weight': '0.3', 'display': '7.00', 'cpu': 'ARM', 'cpu frequency': '2.34', 'ram': '512MB', 'memory': '4GB', 'resolution': '480x800 WVGA', 'camera': '8.00', 'network': 'Wireless|Bluetooth', 'os': 'اندروید | Android'}\n"
     ]
    }
   ],
   "source": [
    "url = 'https://www.bamilo.com/category/tablet_os?source=gfm'\n",
    "keys = {\n",
    "    'وزن (کیلوگرم)':'weight',\n",
    "    'سری پردازنده مرکزی':'cpu',\n",
    "    'فرکانس پردازنده مرکزی (گیگاهرتز)':'cpu frequency',\n",
    "    'حافظه داخلی':'memory',\n",
    "    'حافظه RAM':'ram',\n",
    "    'اندازه صفحه نمایش (اینچ)':'display',\n",
    "    'وضوح صفحه نمایش':'resolution',\n",
    "    'کیفیت دوربین اصلی (مگاپیکسل)':'camera',\n",
    "    'اتصالات بی سیم':'network',\n",
    "    'سیستم عامل':'os'\n",
    "}\n",
    "scrap(url,keys,tablet_worksheet,50)"
   ]
  },
  {
   "cell_type": "code",
   "execution_count": 7,
   "metadata": {},
   "outputs": [],
   "source": [
    "workbook.close()"
   ]
  },
  {
   "cell_type": "code",
   "execution_count": null,
   "metadata": {},
   "outputs": [],
   "source": []
  },
  {
   "cell_type": "code",
   "execution_count": null,
   "metadata": {},
   "outputs": [],
   "source": []
  }
 ],
 "metadata": {
  "kernelspec": {
   "display_name": "Python 3",
   "language": "python",
   "name": "python3"
  },
  "language_info": {
   "codemirror_mode": {
    "name": "ipython",
    "version": 3
   },
   "file_extension": ".py",
   "mimetype": "text/x-python",
   "name": "python",
   "nbconvert_exporter": "python",
   "pygments_lexer": "ipython3",
   "version": "3.7.0"
  }
 },
 "nbformat": 4,
 "nbformat_minor": 2
}
