{
 "cells": [
  {
   "cell_type": "markdown",
   "metadata": {},
   "source": [
    "# Hardware Information Scrapping"
   ]
  },
  {
   "cell_type": "markdown",
   "metadata": {},
   "source": [
    "## libraries"
   ]
  },
  {
   "cell_type": "code",
   "execution_count": 60,
   "metadata": {
    "collapsed": true
   },
   "outputs": [],
   "source": [
    "import pandas as pd\n",
    "import numpy as np\n",
    "import matplotlib.pyplot as plt\n",
    "import seaborn as sns\n",
    "%matplotlib inline"
   ]
  },
  {
   "cell_type": "code",
   "execution_count": 61,
   "metadata": {
    "collapsed": true
   },
   "outputs": [],
   "source": [
    "from urllib.request import urlopen\n",
    "from bs4 import BeautifulSoup\n",
    "import urllib\n",
    "import xlsxwriter"
   ]
  },
  {
   "cell_type": "code",
   "execution_count": 62,
   "metadata": {},
   "outputs": [],
   "source": [
    "workbook = xlsxwriter.Workbook('Ontology.xlsx')\n",
    "phone_worksheet = workbook.add_worksheet('Phone')\n",
    "laptop_worksheet = workbook.add_worksheet('Laptop')\n",
    "tablet_worksheet = workbook.add_worksheet('Tablet')\n",
    "cpu_worksheet = workbook.add_worksheet('CPU')\n",
    "ram_worksheet = workbook.add_worksheet('RAM')\n",
    "gpu_worksheet = workbook.add_worksheet('GPU')\n",
    "motherboard_worksheet = workbook.add_worksheet('Motherboard')\n",
    "ssd_worksheet = workbook.add_worksheet('SSD')\n",
    "handsfree_worksheet = workbook.add_worksheet('Handsfree')"
   ]
  },
  {
   "cell_type": "markdown",
   "metadata": {},
   "source": [
    "## Scrapping from digikala"
   ]
  },
  {
   "cell_type": "code",
   "execution_count": 63,
   "metadata": {
    "collapsed": true
   },
   "outputs": [],
   "source": [
    "def scrap(url,base_url,keys,worksheet,number):\n",
    "    html = urlopen(url)\n",
    "    soup = BeautifulSoup(html, 'lxml')\n",
    "    dic = {}\n",
    "    worksheet.write(0, 0, \"title\")\n",
    "    col = 1\n",
    "    for k, v in keys.items():\n",
    "        worksheet.write(0, col, v)\n",
    "        col += 1\n",
    "    all_links = soup.select(\"div.c-product-box__title a\")\n",
    "    row = 1\n",
    "    for link in all_links[:number]:\n",
    "        url = base_url +  urllib.parse.quote(link.get(\"href\").encode('utf8'), ':/') + \"#/tab-params\"\n",
    "        html = urlopen(url)\n",
    "        soup = BeautifulSoup(html, 'lxml')\n",
    "        if (len(soup.select(\".c-params .c-params__headline span\")[0].contents) > 0):\n",
    "            title = ' '.join(soup.select(\".c-params .c-params__headline span\")[0].contents[0].split())\n",
    "        else:\n",
    "            title = ' '.join(soup.select(\".c-product__title\")[0].contents[0].split())\n",
    "        worksheet.write(row, 0, title)\n",
    "        lists = soup.select(\".c-params__list\")\n",
    "        for alist in lists:\n",
    "            lis = alist.select(\"> li\")\n",
    "            for li in lis:\n",
    "                if (len(li.select(\".c-params__list-key .block\")) > 0 and len(li.select(\".c-params__list-value .block\")[0].contents) > 0):\n",
    "                    a = li.select(\".c-params__list-key .block\")[0]\n",
    "                    b = li.select(\".c-params__list-value .block\")[0]\n",
    "                    if (isinstance(a.contents[0], str)):\n",
    "                        key = ' '.join(a.contents[0].split())\n",
    "                    elif (isinstance(a.contents[0].contents[0], str)) :\n",
    "                        key = ' '.join(a.contents[0].contents[0].split())\n",
    "                    if (isinstance(b.contents[0], str)):\n",
    "                        value = ' '.join(b.contents[0].split())\n",
    "                    elif (isinstance(b.contents[0].contents[0].contents[0], str)) :\n",
    "                        value = ' '.join(b.contents[0].contents[0].contents[0].split())\n",
    "                    for k, v in keys.items():\n",
    "                        if(key == k):\n",
    "                            dic[v] = value\n",
    "        col = 1\n",
    "        for k, v in keys.items():\n",
    "            if v in dic:\n",
    "                worksheet.write(row, col, dic[v])\n",
    "            else :\n",
    "                worksheet.write(row, col, '')\n",
    "            col += 1\n",
    "        row += 1\n",
    "        print(dic)"
   ]
  },
  {
   "cell_type": "markdown",
   "metadata": {},
   "source": [
    "## Phone"
   ]
  },
  {
   "cell_type": "code",
   "execution_count": 64,
   "metadata": {},
   "outputs": [
    {
     "name": "stdout",
     "output_type": "stream",
     "text": [
      "{'weight': '175 گرم', 'sim': 'دو سیم کارت', 'cpu': 'Mediatek MT6580M Chipset', 'cpu frequency': '1.3 گیگاهرتز', 'memory': '8 گیگابایت', 'ram': '1 گیگابایت', 'display': '5.0 اینچ', 'resolution': '854 × 480', 'network': '2G , 3G', 'wifi': 'Wi-Fi 802.11 b/g/n', 'bluetooth': 'نسخه\\u200c 4.0', 'camera': '8.0 مگاپیکسل', 'os': 'Android'}\n",
      "{'weight': '178 گرم', 'sim': 'دو سیم کارت', 'cpu': 'Hisilicon Kirin 970 Chipset', 'cpu frequency': '2.4 و 1.8 گیگاهرتز', 'memory': '128 گیگابایت', 'ram': '6 گیگابایت', 'display': '6.0 اینچ', 'resolution': '1080 × 2160', 'network': '2G , 3G , 4G', 'wifi': 'Wi-Fi 802.11 a/b/g/n/ac', 'bluetooth': 'نسخه 4.2', 'camera': '20.0 مگاپیکسل', 'os': 'Android'}\n",
      "{'weight': '146 گرم', 'sim': 'دو سیم کارت', 'cpu': 'Mediatek MT6762 Helio P22 Chipset', 'cpu frequency': '2.0 گیگاهرتز', 'memory': '64 گیگابایت', 'ram': '4 گیگابایت', 'display': '5.45 اینچ', 'resolution': '720 × 1440 پیکسل', 'network': '2G , 3G , 4G', 'wifi': 'Wi-Fi 802.11 b/g/n', 'bluetooth': 'نسخه 4.2', 'camera': '12.0 مگاپیکسل', 'os': 'Android'}\n",
      "{'weight': '186 گرم', 'sim': 'دو سیم کارت', 'cpu': 'Mediatek Helio P25 Chipset', 'cpu frequency': '2.3 گیگاهرتز', 'memory': '64 گیگابایت', 'ram': '6 گیگابایت', 'display': '5.5 اینچ', 'resolution': 'FullHD | 1920x1080', 'network': '2G , 3G , 4G', 'wifi': 'Wi-Fi 802.11 a/b/g/n', 'bluetooth': 'نسخه 4.1', 'camera': '21.0 مگاپیکسل', 'os': 'Android'}\n",
      "{'weight': '220 گرم', 'sim': 'دو سیم کارت', 'cpu': 'Qualcomm MSM8952 Snapdragon 617 Chipset', 'cpu frequency': '1.2 و 1.5 گیگاهرتز', 'memory': '32 گیگابایت', 'ram': '3 گیگابایت', 'display': '4.7 اینچ', 'resolution': '1280 × 720 | HD', 'network': '2G , 3G , 4G', 'wifi': 'Wi-Fi 802.11 b/g/n', 'bluetooth': 'نسخه 4.1', 'camera': '13.0 مگاپیکسل', 'os': 'Android'}\n",
      "{'weight': '130 گرم', 'sim': 'تک سیم کارت', 'cpu': 'Qualcomm MSM8937 Snapdragon 430 Chipset', 'cpu frequency': '1.4 گیگاهرتز', 'memory': '32 گیگابایت', 'ram': '2 گیگابایت', 'display': '5.2 اینچ', 'resolution': '1080 × 1920 | FullHD', 'network': '2G , 3G , 4G', 'wifi': 'Wi-Fi 802.11 a/b/g/n', 'bluetooth': 'نسخه 4.2', 'camera': '13.0 مگاپیکسل', 'os': 'Android'}\n",
      "{'weight': '160 گرم', 'sim': 'دو سیم کارت', 'cpu': 'Mediatek MT6580 Chipset', 'cpu frequency': '1.3 گیگاهرتز', 'memory': '8 گیگابایت', 'ram': '1 گیگابایت', 'display': '5.2 اینچ', 'resolution': '480 × 854', 'network': '2G , 3G', 'wifi': 'Wi-Fi 802.11 b/g/n', 'bluetooth': 'نسخه 4.1', 'camera': '5.0 مگاپیکسل', 'os': 'Android'}\n",
      "{'weight': '191 گرم', 'sim': 'دو سیم کارت', 'cpu': 'Samsung Exynos 7885 Octa Chipset', 'cpu frequency': '2.2 و 1.6 گیگاهرتز', 'memory': '64 گیگابایت', 'ram': '4 گیگابایت', 'display': '6.0 اینچ', 'resolution': 'FullHD+ | 2220x1080', 'network': '2G , 3G , 4G', 'wifi': 'Wi-Fi 802.11 a/b/g/n/ac', 'bluetooth': 'نسخه 5.0', 'camera': '16.0 مگاپیکسل', 'os': 'Android'}\n",
      "{'weight': '467 گرم', 'sim': 'دو سیم کارت', 'cpu': 'Qualcomm Snapdragon 625 Chipset', 'cpu frequency': '2.0 گیگاهرتز', 'memory': '32 گیگابایت', 'ram': '4 گیگابایت', 'display': '5.5 اینچ', 'resolution': '1080 × 1920 | FullHD', 'network': '2G , 3G , 4G', 'wifi': 'Wi-Fi 802.11 b/g/n/ac', 'bluetooth': 'نسخه 4.2', 'camera': '12.0 مگاپیکسل', 'os': 'Android'}\n",
      "{'weight': '467 گرم', 'sim': 'دو سیم کارت', 'cpu': 'Qualcomm Snapdragon 625 Chipset', 'cpu frequency': '2.0 گیگاهرتز', 'memory': '16 گیگابایت', 'ram': '1 گیگابایت', 'display': '5.2 اینچ', 'resolution': '1080 × 1920 | FullHD', 'network': '3G , 2G', 'wifi': 'Wi-Fi 802.11 b/g/n/ac', 'bluetooth': 'نسخه 4.2', 'camera': '8.0 مگاپیکسل', 'os': 'Android'}\n",
      "{'weight': '180 گرم', 'sim': 'تک سیم کارت', 'cpu': 'Qualcomm MSM8953 Snapdragon 625 Chipset', 'cpu frequency': '2.0 گیگاهرتز', 'memory': '32 گیگابایت', 'ram': '3 گیگابایت', 'display': '4.5 اینچ', 'resolution': '1620 × 1080', 'network': '2G , 3G , 4G', 'wifi': 'Wi-Fi 802.11 a/b/g/n/ac', 'bluetooth': 'نسخه\\u200c 4.2', 'camera': '12.0 مگاپیکسل', 'os': 'Android'}\n",
      "{'weight': '136 گرم', 'sim': 'تک سیم کارت', 'cpu': 'Qualcomm MSM8996 Snapdragon 820 Chipset', 'cpu frequency': '1.8 و 1.6 گیگاهرتز', 'memory': '32 گیگابایت', 'ram': '4 گیگابایت', 'display': '5.5 اینچ', 'resolution': '1440 × 2560 | QHD', 'network': '2G , 3G , 4G', 'wifi': 'Wi-Fi 802.11 a/b/g/n/ac', 'bluetooth': 'نسخه 4.1', 'camera': '13.0 مگاپیکسل', 'os': 'Android'}\n",
      "{'weight': '200 گرم', 'sim': 'دو سیم کارت', 'cpu': 'Qualcomm MSM8909 Snapdragon 210 Chipset', 'cpu frequency': '1.3 گیگاهرتز', 'memory': '16 گیگابایت', 'ram': '2 گیگابایت', 'display': '4.7 اینچ', 'resolution': '720 × 1280 | HD', 'network': '2G , 3G , 4G', 'wifi': 'Wi-Fi 802.11 b/g/n', 'bluetooth': 'نسخه 4.1', 'camera': '8.0 مگاپیکسل', 'os': 'Android'}\n",
      "{'weight': '187 گرم', 'sim': 'دو سیم کارت', 'cpu': 'Quad core', 'cpu frequency': '1.3GHz 4x گیگاهرتز', 'memory': '16 گیگابایت', 'ram': '2 گیگابایت', 'display': '5.2 اینچ', 'resolution': '1440×720', 'network': '2G , 3G , 4G', 'wifi': 'Wi-Fi 802.11 b/g/n', 'bluetooth': 'نسخه 4.1', 'camera': '13.0 مگاپیکسل', 'os': 'Android'}\n",
      "{'weight': '136 گرم', 'sim': 'تک سیم کارت', 'cpu': 'Qualcomm MSM8996 Snapdragon 820 Chipset', 'cpu frequency': '1.8 و 1.6 گیگاهرتز', 'memory': '32 گیگابایت', 'ram': '4 گیگابایت', 'display': '5.5 اینچ', 'resolution': '1440 × 2560 | QHD', 'network': '2G , 3G , 4G', 'wifi': 'Wi-Fi 802.11 a/b/g/n/ac', 'bluetooth': 'نسخه 4.1', 'camera': '13.0 مگاپیکسل', 'os': 'Android'}\n"
     ]
    }
   ],
   "source": [
    "url = 'https://www.digikala.com/search/category-mobile-phone/?type[0]=201&pageno=1&last_filter=type&last_value=201&sortby=4'\n",
    "base_url = 'https://www.digikala.com'\n",
    "keys = {\n",
    "    'وزن':'weight',\n",
    "    'تعداد سیم کارت':'sim',\n",
    "    'تراشه':'cpu',\n",
    "    'فرکانس پردازنده‌ی مرکزی':'cpu frequency',\n",
    "    'حافظه داخلی':'memory',\n",
    "    'مقدار RAM':'ram',\n",
    "    'اندازه':'display',\n",
    "    'رزولوشن':'resolution',\n",
    "    'رزولوشن عکس':'camera',\n",
    "    'شبکه های ارتباطی':'network',\n",
    "    'Wi-Fi':'wifi',\n",
    "    'بلوتوث':'bluetooth',\n",
    "    'سیستم عامل':'os'\n",
    "}\n",
    "scrap(url,base_url,keys,phone_worksheet,15)"
   ]
  },
  {
   "cell_type": "markdown",
   "metadata": {},
   "source": [
    "## Laptop"
   ]
  },
  {
   "cell_type": "code",
   "execution_count": 65,
   "metadata": {},
   "outputs": [
    {
     "name": "stdout",
     "output_type": "stream",
     "text": [
      "{'weight': '2.0 کیلوگرم', 'cpu brand': 'Intel', 'cpu': 'Celeron', 'cpu model': 'N3350', 'cpu frequency': 'تا 2.0GHz', 'harddrive': '500 گیگابایت', 'harddrive type': 'هارد دیسک', 'gpu': 'Intel', 'gpu model': 'HD Graphics 500', 'vram': 'بدون حافظه\\u200cی گرافیکی مجزا', 'display': '15.6 اینچ', 'resolution': 'HD|1366x768'}\n",
      "{'weight': '1.15 کیلوگرم', 'cpu brand': 'Intel', 'cpu': 'Celeron', 'cpu model': 'N3350', 'cpu frequency': 'تا 2.0GHz', 'harddrive': '500 گیگابایت', 'harddrive type': 'هارد دیسک', 'gpu': 'Intel', 'gpu model': 'HD Graphics 500', 'vram': 'بدون حافظه\\u200cی گرافیکی مجزا', 'display': '11.6 اینچ', 'resolution': 'HD|1366x768'}\n",
      "{'weight': '1/9 کیلوگرم', 'cpu brand': 'Intel', 'cpu': 'Core i5', 'cpu model': '8250U', 'cpu frequency': 'تا 2.0GHz', 'harddrive': 'یک ترابایت', 'harddrive type': 'هارد دیسک', 'gpu': 'NVIDIA', 'gpu model': 'GTX1050 GDDR5', 'vram': '4GB', 'display': '15.6 اینچ', 'resolution': 'Full HD|1920x1080'}\n",
      "{'weight': '2.0 کیلوگرم', 'cpu brand': 'Intel', 'cpu': 'Pentium', 'cpu model': 'N4200', 'cpu frequency': 'تا 2.0GHz', 'harddrive': '500 گیگابایت', 'harddrive type': 'هارد دیسک', 'gpu': 'Intel', 'gpu model': 'HD Graphics 505', 'vram': 'بدون حافظه\\u200cی گرافیکی مجزا', 'display': '15.6 اینچ', 'resolution': 'HD|1366x768'}\n",
      "{'weight': '2.2 کیلوگرم', 'cpu brand': 'Intel', 'cpu': 'Celeron', 'cpu model': 'N3060', 'cpu frequency': 'تا 2.0GHz', 'harddrive': '500 گیگابایت', 'harddrive type': 'هارد دیسک', 'gpu': 'Intel', 'gpu model': 'HD Graphics 400', 'vram': 'بدون حافظه\\u200cی گرافیکی مجزا', 'display': '15.6 اینچ', 'resolution': 'HD|1366x768'}\n",
      "{'weight': '2.2 کیلوگرم', 'cpu brand': 'AMD', 'cpu': 'Stoney Ridge', 'cpu model': 'A9-9420', 'cpu frequency': '2.8 گیگاهرتز و بیشتر', 'harddrive': 'یک ترابایت', 'harddrive type': 'هارد دیسک', 'gpu': 'AMD', 'gpu model': 'Radeon 530M GDDR5', 'vram': '2GB', 'display': '15.6 اینچ', 'resolution': 'HD|1366x768'}\n",
      "{'weight': '1.35 کیلوگرم', 'cpu brand': 'Intel', 'cpu': 'Core i5', 'cpu model': 'Dual Core', 'cpu frequency': 'تا 2.0GHz', 'harddrive': '128 گیگابایت', 'harddrive type': 'SSD', 'gpu': 'Intel', 'gpu model': 'HD Graphics 6000', 'vram': 'بدون حافظه\\u200cی گرافیکی مجزا', 'display': '13.3 اینچ', 'resolution': 'WXGA+|1440x900'}\n",
      "{'weight': '2.17 کیلوگرم', 'cpu brand': 'Intel', 'cpu': 'Pentium', 'cpu model': 'N4200', 'cpu frequency': 'تا 2.0GHz', 'harddrive': '500 گیگابایت', 'harddrive type': 'هارد دیسک', 'gpu': 'NVIDIA', 'gpu model': 'GeForce 810M', 'vram': '2GB', 'display': '15.6 اینچ', 'resolution': 'HD|1366x768'}\n",
      "{'weight': '2.0 کیلوگرم', 'cpu brand': 'Intel', 'cpu': 'Core i7', 'cpu model': '7500U', 'cpu frequency': '2.5 تا 2.8 گیگاهرتز', 'harddrive': 'یک ترابایت', 'harddrive type': 'هارد دیسک', 'gpu': 'NVIDIA', 'gpu model': 'GeForce 920MX', 'vram': '2GB', 'display': '15.6 اینچ', 'resolution': 'Full HD|1920x1080'}\n",
      "{'weight': '2.43 کیلوگرم', 'cpu brand': 'Intel', 'cpu': 'Core i7', 'cpu model': '7700HQ', 'cpu frequency': '2.8 گیگاهرتز و بیشتر', 'harddrive': 'دو ترابایت', 'harddrive type': 'حافظه\\u200cهای هیبریدی', 'gpu': 'NVIDIA', 'gpu model': 'GeForce GTX 1070 GDDR5', 'vram': '8GB', 'display': '17.3 اینچ', 'resolution': 'Full HD|1920x1080'}\n",
      "{'weight': '1.4 کیلوگرم', 'cpu brand': 'Intel', 'cpu': 'Atom', 'cpu model': 'Intel Atom z8350', 'cpu frequency': 'تا 2.0GHz', 'harddrive': '32 گیگابایت', 'harddrive type': 'حافظه\\u200cهای هیبریدی', 'gpu': 'Intel', 'gpu model': '520', 'vram': '128MB', 'display': '14.1 اینچ', 'resolution': 'Full HD|1920x1080'}\n",
      "{'weight': '3.0 کیلوگرم', 'cpu brand': 'Intel', 'cpu': 'Xeon', 'cpu model': 'E3-1535', 'cpu frequency': '2.8 گیگاهرتز و بیشتر', 'harddrive': 'یک ترابایت', 'harddrive type': 'SSD', 'gpu': 'NVIDIA', 'gpu model': 'QUADRO M4000M', 'vram': '4GB', 'display': '17.3 اینچ', 'resolution': 'Full HD|1920x1080'}\n",
      "{'weight': '1.4 کیلوگرم', 'cpu brand': 'Intel', 'cpu': 'Celeron', 'cpu model': 'N3060', 'cpu frequency': '2.0 تا 2.2 گیگاهرتز', 'harddrive': '32 گیگابایت', 'harddrive type': 'SSD', 'gpu': 'Intel', 'gpu model': '400 HD Graphics', 'vram': 'بدون حافظه\\u200cی گرافیکی مجزا', 'display': '11.6 اینچ', 'resolution': 'HD|1366x768'}\n",
      "{'weight': '2.2 کیلوگرم', 'cpu brand': 'Intel', 'cpu': 'Core i7', 'cpu model': '8550U', 'cpu frequency': 'تا 2.0GHz', 'harddrive': 'یک ترابایت', 'harddrive type': 'هارد دیسک', 'gpu': 'NVIDIA', 'gpu model': 'GeForce MX150 GDDR5', 'vram': '4GB', 'display': '15.6 اینچ', 'resolution': 'Full HD|1920x1080'}\n",
      "{'weight': '1.83 کیلوگرم', 'cpu brand': 'Intel', 'cpu': 'Core i7', 'cpu model': 'Quad Core 7th Generation', 'cpu frequency': '2.8 گیگاهرتز و بیشتر', 'harddrive': '512 گیگابایت', 'harddrive type': 'SSD', 'gpu': 'AMD', 'gpu model': 'Radeon Pro 560', 'vram': '4GB', 'display': '15.4 اینچ', 'resolution': '2880x1800'}\n"
     ]
    }
   ],
   "source": [
    "url = \"https://www.digikala.com/search/category-notebook-netbook-ultrabook/\"\n",
    "base_url = \"https://www.digikala.com\"\n",
    "keys = {\n",
    "    \"وزن\":\"weight\",\n",
    "    \"سازنده پردازنده\":\"cpu brand\",\n",
    "    \"سری پردازنده\":\"cpu\",\n",
    "    \"مدل پردازنده\":\"cpu model\",\n",
    "    \"محدوده سرعت پردازنده\":\"cpu frequency\",\n",
    "    \"ظرفیت حافظه داخلی\":\"harddrive\",   \n",
    "    \"نوع حافظه داخلی\":\"harddrive type\",\n",
    "    \"سازنده پردازنده گرافیکی\":\"gpu\",\n",
    "    \"مدل پردازنده گرافیکی\":\"gpu model\",\n",
    "    \"حافظه اختصاصی پردازنده گرافیکی\":\"vram\",\n",
    "    \"اندازه صفحه نمایش\":\"display\",\n",
    "    \"دقت صفحه نمایش\":\"resolution\",\n",
    "}\n",
    "scrap(url,base_url,keys,laptop_worksheet,15)"
   ]
  },
  {
   "cell_type": "markdown",
   "metadata": {},
   "source": [
    "## Tablet"
   ]
  },
  {
   "cell_type": "code",
   "execution_count": 66,
   "metadata": {},
   "outputs": [
    {
     "name": "stdout",
     "output_type": "stream",
     "text": [
      "{'weight': '254 گرم', 'cpu': 'MediaTek MT8167D Chipset', 'cpu frequency': '1.3 گیگاهرتز', 'ram': '1 گیگابایت', 'memory': '8 گیگابایت', 'display': '7 اینچ', 'resolution': '600 × 1024 پیکسل', 'network': 'بلوتوث , رادیو , Wi-Fi', 'wifi': 'WiFi 802.11 b/g/n', 'bluetooth': 'نسخه 4.0', 'camera': '2 مگاپیکسل', 'os': 'Android'}\n",
      "{'weight': '283 گرم', 'cpu': 'Spreadtrum SC7731 Chipset', 'cpu frequency': '1.5 گیگاهرتز', 'ram': '1.5 گیگابایت', 'memory': '8 گیگابایت', 'display': '7.0 اینچ', 'resolution': '800 × 1280 پیکسل', 'network': 'بلوتوث , EDGE , GPRS , OTG , رادیو , Wi-Fi', 'wifi': 'Wi-Fi 802.11 a/b/g/n', 'bluetooth': 'نسخه\\u200c 4.0', 'camera': '5 مگاپیکسل', 'os': 'Android'}\n",
      "{'weight': '354 گرم', 'cpu': 'Qualcomm Snapdragon 410 MSM8916 Chipset', 'cpu frequency': '1.2 گیگاهرتز', 'ram': '2 گیگابایت', 'memory': '16 گیگابایت', 'display': '8.0 اینچ', 'resolution': '800 × 1280 پیکسل', 'network': 'بلوتوث , EDGE , GPRS , OTG , Wi-Fi', 'wifi': 'Wi-Fi 802.11 a/b/g/n', 'bluetooth': 'نسخه\\u200c 4.0', 'camera': '5 مگاپیکسل', 'os': 'Android'}\n",
      "{'weight': '254 گرم', 'cpu': 'MediaTek MT8735D Chipset', 'cpu frequency': '1.1 گیگاهرتز', 'ram': '1 گیگابایت', 'memory': '16 گیگابایت', 'display': '7 اینچ', 'resolution': '600 × 1024 پیکسل', 'network': 'بلوتوث , EDGE , GPRS , Wi-Fi', 'wifi': 'Wi-Fi 802.11 b/g/n', 'bluetooth': 'نسخه 4.1', 'camera': '2 مگاپیکسل', 'os': 'Android'}\n",
      "{'weight': '434 گرم', 'cpu': 'Qualcomm MSM8996 Snapdragon 820 Chipset', 'cpu frequency': '2.15 و 1.6 گیگاهرتز', 'ram': '4 گیگابایت', 'memory': '32 گیگابایت', 'display': '9.7 اینچ', 'resolution': '1536 × 2048 پیکسل', 'network': 'بلوتوث , EDGE , GPRS , Wi-Fi', 'wifi': 'Wi-Fi 802.11 a/b/g/n/ac,', 'bluetooth': 'نسخه\\u200c 4.2', 'camera': '13 مگاپیکسل', 'os': 'Android'}\n",
      "{'weight': '580 گرم', 'cpu': 'Intel Atom X5-Z8350 Chipset', 'cpu frequency': '1.44 گیگاهرتز', 'ram': '4 گیگابایت', 'memory': '64 گیگابایت', 'display': '10.1 اینچ', 'resolution': '800 × 1280 | WXGA پیکسل', 'network': 'بلوتوث , Wi-Fi', 'wifi': 'Wi-Fi 802.11 a/b/g/n', 'bluetooth': 'نسخه 4.0', 'camera': '5 مگاپیکسل', 'os': 'Windows'}\n",
      "{'weight': '300 گرم', 'cpu': 'MediaTek Chipset', 'cpu frequency': '1.3 گیگاهرتز', 'ram': '1 گیگابایت', 'memory': '8 گیگابایت', 'display': '7 اینچ', 'resolution': '600 × 1024 پیکسل', 'network': 'بلوتوث , EDGE , GPRS , Wi-Fi', 'wifi': 'دارد', 'bluetooth': 'نسخه\\u200c 4.0', 'camera': '2 مگاپیکسل', 'os': 'Android'}\n",
      "{'weight': '338 گرم', 'cpu': 'Qualcomm APQ 8016 Snapdragon 410 Chipset', 'cpu frequency': '1.2 گیگاهرتز', 'ram': '2 گیگابایت', 'memory': '16 گیگابایت', 'display': '8 اینچ', 'resolution': '768 × 1024 پیکسل', 'network': 'بلوتوث , EDGE , GPRS , Wi-Fi', 'wifi': 'Wi-Fi 802.11 a/b/g/n', 'bluetooth': 'نسخه\\u200c 4.1', 'camera': '5 مگاپیکسل', 'os': 'Android'}\n",
      "{'weight': '258 گرم', 'cpu': 'Qualcomm Snapdragon 410 MSM8916 Chipset', 'cpu frequency': '1.2 گیگاهرتز', 'ram': '2 گیگابایت', 'memory': '16 گیگابایت', 'display': '7 اینچ', 'resolution': '720 × 1280 پیکسل', 'network': 'بلوتوث , EDGE , GPRS , OTG , رادیو , Wi-Fi', 'wifi': 'Wi-Fi 802.11 a/b/g/n', 'bluetooth': 'نسخه 4.0', 'camera': '5 مگاپیکسل', 'os': 'Android'}\n",
      "{'weight': '322 گرم', 'cpu': 'Marvell SOC PXA986 Chipset', 'cpu frequency': '1.3 گیگاهرتز', 'ram': '1 گیگابایت', 'memory': '8 گیگابایت', 'display': '7 اینچ', 'resolution': '600 × 1024 پیکسل', 'network': 'بلوتوث , EDGE , GPRS , Wi-Fi', 'wifi': 'Wi-Fi 802.11 b/g/n', 'bluetooth': 'نسخه\\u200c 4.0', 'camera': '2 مگاپیکسل', 'os': 'Android'}\n",
      "{'weight': '495 گرم', 'cpu': 'Spredtrum SC7730 Chipset', 'cpu frequency': '1.3 گیگاهرتز', 'ram': '1.5 گیگابایت', 'memory': '8 گیگابایت', 'display': '9.6 اینچ', 'resolution': '800 × 1280 پیکسل', 'network': 'بلوتوث , EDGE , GPRS , OTG , Wi-Fi', 'wifi': 'Wi-Fi 802.11 b/g/n, Wi-Fi Direct', 'bluetooth': 'نسخه\\u200cی 4.0 با پروفایل\\u200cهای A2DP, AVRCP, DI, HFP, HID, HOGP, HSP, MAP, OPP, PAN, PBAP', 'camera': '5 مگاپیکسل', 'os': 'Android'}\n",
      "{'weight': '320 گرم', 'cpu': 'Qualcomm Snapdragon 650 MSM8956 Chipset', 'cpu frequency': '1.8 و 1.2 گیگاهرتز', 'ram': '4 گیگابایت', 'memory': '32 گیگابایت', 'display': '8 اینچ', 'resolution': '2048 × 1536 پیکسل', 'network': 'بلوتوث , EDGE , GPRS , Wi-Fi', 'wifi': 'Wi-Fi 802.11 a/b/g/n/ac', 'bluetooth': 'نسخه 4.1', 'camera': '8 مگاپیکسل', 'os': 'Android'}\n",
      "{'weight': '298.8 گرم', 'cpu': 'A8 chip with 64‑bit architecture & M8 motion coprocessor Chipset', 'cpu frequency': '1.5 گیگاهرتز', 'ram': '2 گیگابایت', 'memory': '128 گیگابایت', 'display': '7.9 اینچ', 'resolution': '1536 × 2048 پیکسل', 'network': 'بلوتوث , Wi-Fi', 'wifi': 'Wi-Fi 802.11 a/b/g/n/ac', 'bluetooth': 'نسخه\\u200c 4.2', 'camera': '8 مگاپیکسل', 'os': 'iOS'}\n",
      "{'weight': '344 گرم', 'cpu': 'MTK8382 Chipset', 'cpu frequency': '1.3 گیگاهرتز', 'ram': '1 گیگابایت', 'memory': '16 گیگابایت', 'display': '8.1 اینچ', 'resolution': '800 × 1280 پیکسل', 'network': 'GPRS , EDGE , Wi-Fi , بلوتوث , OTG', 'wifi': 'دارد', 'bluetooth': 'دارد', 'camera': '8 مگاپیکسل', 'os': 'Google Android'}\n",
      "{'weight': '525 گرم', 'cpu': 'Exynos 7870 Chipset', 'cpu frequency': '1.6 گیگاهرتز', 'ram': '2 گیگابایت', 'memory': '16 گیگابایت', 'display': '10.1 اینچ', 'resolution': '1920 × 1200 پیکسل', 'network': 'بلوتوث , EDGE , GPRS , OTG , Wi-Fi', 'wifi': 'Wi-Fi 802.11 a/b/g/n/ac', 'bluetooth': 'نسخه 4.2', 'camera': '8 مگاپیکسل', 'os': 'Android'}\n"
     ]
    }
   ],
   "source": [
    "url = 'https://www.digikala.com/search/category-tablet/'\n",
    "base_url = 'https://www.digikala.com'\n",
    "keys = {\n",
    "    'وزن':'weight',\n",
    "    'تراشه':'cpu',\n",
    "    'فرکانس پردازنده‌ی مرکزی':'cpu frequency',\n",
    "    'حافظه داخلی':'memory',\n",
    "    'مقدار رم':'ram',\n",
    "    'اندازه':'display',\n",
    "    'رزولوشن':'resolution',\n",
    "    'رزولوشن دوربین':'camera',\n",
    "    'فناوری‌های ارتباطی':'network',\n",
    "    'Wi-Fi':'wifi',\n",
    "    'بلوتوث':'bluetooth',\n",
    "    'سیستم عامل':'os'\n",
    "}\n",
    "scrap(url,base_url,keys,tablet_worksheet,15)"
   ]
  },
  {
   "cell_type": "markdown",
   "metadata": {
    "collapsed": true
   },
   "source": [
    "## CPU"
   ]
  },
  {
   "cell_type": "code",
   "execution_count": 67,
   "metadata": {},
   "outputs": [
    {
     "name": "stdout",
     "output_type": "stream",
     "text": [
      "{'cpu series': 'Core i7', 'model': 'Core i7-8700K', 'brand': 'Intel', 'lithography': '14 نانومتر', 'base cpu frequency': '3.7 گیگاهرتز'}\n",
      "{'cpu series': 'Pentium', 'model': 'Pentium G4400', 'brand': 'Intel', 'lithography': '14 نانومتر', 'base cpu frequency': '3.3 گیگاهرتز'}\n",
      "{'cpu series': 'Core i9', 'model': 'i9-7920X', 'brand': 'Intel', 'lithography': '14 نانومتر', 'base cpu frequency': '2.9 گیگاهرتز'}\n",
      "{'cpu series': 'Core i5', 'model': 'Core i5-7400', 'brand': 'Intel', 'lithography': '14 نانومتر', 'base cpu frequency': '3.0 گیگاهرتز'}\n",
      "{'cpu series': 'Core i7', 'model': 'Core i7-7700K', 'brand': 'Intel', 'lithography': '14 نانومتر', 'base cpu frequency': '4.2 گیگاهرتز'}\n",
      "{'cpu series': 'Core i5', 'model': 'Core i5-6400', 'brand': 'Intel', 'lithography': '14 نانومتر', 'base cpu frequency': '2.7 گیگاهرتز'}\n",
      "{'cpu series': 'Core i3', 'model': 'i3-8100', 'brand': 'Intel', 'lithography': '14 نانومتر', 'base cpu frequency': '3.6 گیگاهرتز'}\n",
      "{'cpu series': 'Core i7', 'model': 'Core i7-7800X', 'brand': 'Intel', 'lithography': '14 نانومتر', 'base cpu frequency': '3.5 گیگاهرتز'}\n",
      "{'cpu series': 'Core i7', 'model': 'RYZEN Threadripper 1900X', 'brand': 'AMD', 'lithography': '14 نانومتر', 'base cpu frequency': '3.8 گیگاهرتز'}\n",
      "{'cpu series': 'Core i9', 'model': 'Core i9-7900X', 'brand': 'Intel', 'lithography': '14 نانومتر', 'base cpu frequency': '3.3 گیگاهرتز'}\n",
      "{'cpu series': 'Core i9', 'model': 'Ryzen 7 1700', 'brand': 'AMD', 'lithography': '14 نانومتر', 'base cpu frequency': '3 گیگاهرتز'}\n",
      "{'cpu series': 'Core i7', 'model': 'Core i7-7700', 'brand': 'Intel', 'lithography': '14 نانومتر', 'base cpu frequency': '3.6 گیگاهرتز'}\n",
      "{'cpu series': 'Core i7', 'model': 'Core i7-6700K', 'brand': 'Intel', 'lithography': '14 نانومتر', 'base cpu frequency': '4 گیگاهرتز'}\n",
      "{'cpu series': 'Core i7', 'model': '3 2200G', 'brand': 'AMD', 'lithography': '14 نانومتر', 'base cpu frequency': '3.5 گیگاهرتز'}\n",
      "{'cpu series': 'A6', 'model': 'A6 9500 APU', 'brand': 'AMD', 'lithography': '28 نانومتر', 'base cpu frequency': '3.5 گیگاهرتز'}\n"
     ]
    }
   ],
   "source": [
    "url = 'https://www.digikala.com/search/category-processor/'\n",
    "base_url = 'https://www.digikala.com'\n",
    "keys = {\n",
    "    'سری پردازنده':'cpu series',\n",
    "    'مدل':'model',\n",
    "    'فرکانس مرجع':'base cpu frequency',\n",
    "    'سازنده':'brand',\n",
    "    'لیتوگرافی':'lithography',\n",
    "}\n",
    "scrap(url,base_url,keys,cpu_worksheet,15)"
   ]
  },
  {
   "cell_type": "markdown",
   "metadata": {},
   "source": [
    "## Ram"
   ]
  },
  {
   "cell_type": "code",
   "execution_count": 68,
   "metadata": {},
   "outputs": [
    {
     "name": "stdout",
     "output_type": "stream",
     "text": [
      "{'type memory': 'DDR3', 'capacity': '4 گیگابایت', 'channel': 'تک کاناله', 'frequency': '1600 مگاهرتز'}\n",
      "{'type memory': 'DDR3', 'capacity': '8 گیگابایت', 'channel': 'تک کاناله', 'frequency': '1600 مگاهرتز'}\n",
      "{'type memory': 'DDR2', 'capacity': '2 گیگابایت', 'channel': 'تک کاناله', 'frequency': '800 مگاهرتز'}\n",
      "{'type memory': 'DDR4', 'capacity': '64 گیگابایت', 'channel': 'چهارکاناله', 'frequency': '3000 مگاهرتز'}\n",
      "{'type memory': 'DDR4', 'capacity': '4 گیگابایت', 'channel': 'تک کاناله', 'frequency': '2400 مگاهرتز'}\n",
      "{'type memory': 'DDR3', 'capacity': '8 گیگابایت', 'channel': 'دو کاناله', 'frequency': '1600 مگاهرتز'}\n",
      "{'type memory': 'DDR4', 'capacity': '8 گیگابایت', 'channel': 'تک کاناله', 'frequency': '3000 مگاهرتز'}\n",
      "{'type memory': 'DDR4', 'capacity': '4 گیگابایت', 'channel': 'تک کاناله', 'frequency': '2400 مگاهرتز'}\n",
      "{'type memory': 'DDR3', 'capacity': '2 گیگابایت', 'channel': 'تک کاناله', 'frequency': '1600 مگاهرتز'}\n",
      "{'type memory': 'DDR3', 'capacity': '4 گیگابایت', 'channel': 'تک کاناله', 'frequency': '1600 مگاهرتز'}\n",
      "{'type memory': 'DDR3L', 'capacity': '16 گیگابایت', 'channel': 'تک کاناله', 'frequency': '1600 مگاهرتز'}\n",
      "{'type memory': 'DDR4', 'capacity': '4 گیگابایت', 'channel': 'تک کاناله', 'frequency': '2400 مگاهرتز'}\n",
      "{'type memory': 'DDR2', 'capacity': '2 گیگابایت', 'channel': 'تک کاناله', 'frequency': '800 مگاهرتز'}\n",
      "{'type memory': 'DDR4', 'capacity': '4 گیگابایت', 'channel': 'تک کاناله', 'frequency': '2400 مگاهرتز'}\n",
      "{'type memory': 'DDR3', 'capacity': '4 گیگابایت', 'channel': 'دو کاناله', 'frequency': '1600 مگاهرتز'}\n"
     ]
    }
   ],
   "source": [
    "url = 'https://www.digikala.com/search/category-ram/'\n",
    "base_url = 'https://www.digikala.com'\n",
    "keys = {\n",
    "    'نوع حافظه':'type memory',\n",
    "    'ظرفیت کلی':'capacity',\n",
    "    'فرکانس':'frequency',\n",
    "    'پیکربندی':'channel',\n",
    "}\n",
    "scrap(url,base_url,keys,ram_worksheet,15)"
   ]
  },
  {
   "cell_type": "markdown",
   "metadata": {},
   "source": [
    "## Motherboard"
   ]
  },
  {
   "cell_type": "code",
   "execution_count": 69,
   "metadata": {},
   "outputs": [
    {
     "name": "stdout",
     "output_type": "stream",
     "text": [
      "{'size': '19 × 30.5 میلی\\u200cمتر', 'cpu support': '6th Generation Core™ i7/Core™ i5/Core™ i3/Pentium®/Celeron®', 'memory slot': 'دو عدد', 'memory type support': 'DDR4', 'maximum memory support': '32 گیگابایت', 'usb3': 'دو عدد'}\n",
      "{'size': '244 × 305 میلی\\u200cمتر', 'cpu support': 'Only Intel 8th generation Core i7/ Core i5/ Core i3 Processors', 'memory slot': 'چهار عدد', 'memory type support': 'DDR4', 'maximum memory support': '64 گیگابایت', 'usb3': 'ندارد'}\n",
      "{'size': '182 × 244 میلی\\u200cمتر', 'cpu support': 'Intel® for 6th Generation Core™ i7/Core™ i5/Core™ i3/Pentium®/Celeron®', 'memory slot': 'دو عدد', 'memory type support': 'DDR4', 'maximum memory support': '32 گیگابایت', 'usb3': 'دو عدد'}\n",
      "{'size': '183 × 226 میلی\\u200cمتر', 'cpu support': 'Intel 4th Generation Core i7/Core i5/Core i3/Pentium/Celeron', 'memory slot': 'دو عدد', 'memory type support': 'DDR3', 'maximum memory support': '16 گیگابایت', 'usb3': 'ندارد'}\n",
      "{'size': '218 × 305 میلی\\u200cمتر', 'cpu support': 'Core i7/Core i5/Core i3/Pentium/Celeron', 'memory slot': 'چهار عدد', 'memory type support': 'DDR4', 'maximum memory support': '64 گیگابایت', 'usb3': 'دو عدد'}\n",
      "{'size': '183 × 226 میلی\\u200cمتر', 'cpu support': 'Core i7 / i5 / i3 / Pentium / Celeron', 'memory slot': 'دو عدد', 'memory type support': 'DDR4', 'maximum memory support': '32 گیگابایت', 'usb3': 'دو عدد'}\n",
      "{'size': '178 × 244 میلی\\u200cمتر', 'cpu support': 'Intel 4th Gen Core i7 / Core i5 / Core i3 /Pentium / Celeron', 'memory slot': 'دو عدد', 'memory type support': 'DDR3', 'maximum memory support': '16 گیگابایت', 'usb3': 'دو عدد'}\n",
      "{'size': '177 × 226 میلی\\u200cمتر', 'cpu support': 'Intel 4th Gen Core i7 / Core i5 / Core i3 /Pentium / Celeron', 'memory slot': 'دو عدد', 'memory type support': 'DDR4', 'maximum memory support': '32 گیگابایت', 'usb3': 'یک عدد'}\n",
      "{'size': '206 × 243 میلی\\u200cمتر', 'cpu support': 'Intel 6th/ 7th Gen Core i3/i5/i7 ,Pentium, Celeron', 'memory slot': 'دو عدد', 'memory type support': 'DDR4', 'maximum memory support': '32 گیگابایت', 'usb3': 'ندارد'}\n",
      "{'size': '244 × 305 میلی\\u200cمتر', 'cpu support': '8th Generation Core Processors', 'memory slot': 'چهار عدد', 'memory type support': 'DDR4', 'maximum memory support': '64 گیگابایت', 'usb3': 'ندارد'}\n",
      "{'size': '244 × 305 میلی\\u200cمتر', 'cpu support': 'Intel 7th and 6th generation Core i7/ Core i5/ Core i3/ Pentium/ Celeron', 'memory slot': 'چهار عدد', 'memory type support': 'DDR4', 'maximum memory support': '64 گیگابایت', 'usb3': 'ندارد'}\n",
      "{'size': '330 × 305 میلی\\u200cمتر', 'cpu support': 'Square Type - 80 × 80mm / Xeon / E5-2600 v3 Product Family', 'memory slot': 'شانزده عدد', 'memory type support': 'DDR4', 'maximum memory support': '1024 گیگابایت', 'usb3': 'چهار عدد'}\n",
      "{'size': '180 × 244 میلی\\u200cمتر', 'cpu support': 'Intel Core i7 / Core i5 / Core i3 / Pentium / Celeron', 'memory slot': 'دو عدد', 'memory type support': 'DDR4', 'maximum memory support': '32 گیگابایت', 'usb3': 'دو عدد'}\n",
      "{'size': '305 × 244 میلی\\u200cمتر', 'cpu support': 'AMD Ryzen/7th Generation A-series/Athlon', 'memory slot': 'چهار عدد', 'memory type support': 'DDR4', 'maximum memory support': '64 گیگابایت', 'usb3': 'ندارد'}\n",
      "{'size': '305 × 244 میلی\\u200cمتر', 'cpu support': 'Core i7/Core i5/Core i3/Pentium/Celeron', 'memory slot': 'چهار عدد', 'memory type support': 'DDR4', 'maximum memory support': '64 گیگابایت', 'usb3': 'چهار عدد'}\n"
     ]
    }
   ],
   "source": [
    "url = 'https://www.digikala.com/search/category-motherboard/'\n",
    "base_url = 'https://www.digikala.com'\n",
    "keys = {\n",
    "    'ابعاد':'size',\n",
    "    'پردازنده های پشتیبانی شده':'cpu support',\n",
    "    'تعداد اسلات حافظه':'memory slot',\n",
    "    'نوع حافظه پشتیبانی شده':'memory type support',\n",
    "    'حداکثر حافظه پشتیبانی شده':'maximum memory support',\n",
    "    'پورت USB 3.0':'usb3',\n",
    "}\n",
    "scrap(url,base_url,keys,motherboard_worksheet,15)"
   ]
  },
  {
   "cell_type": "markdown",
   "metadata": {},
   "source": [
    "## GPU"
   ]
  },
  {
   "cell_type": "code",
   "execution_count": 70,
   "metadata": {},
   "outputs": [
    {
     "name": "stdout",
     "output_type": "stream",
     "text": [
      "{'model': 'Quadro P5000', 'brand': 'NVIDIA', 'lithography': '16 نانومتر', 'memory size': '46360', 'memory type': 'GDDR5X'}\n",
      "{'model': 'GeForce GTX 1060', 'brand': 'NVIDIA', 'lithography': '16 نانومتر', 'memory size': '29799', 'memory type': 'GDDR5'}\n",
      "{'model': 'GT 630', 'brand': 'NVIDIA', 'lithography': '16 نانومتر', 'memory size': '1GB', 'memory type': 'GDDR3'}\n",
      "{'model': 'GeForce GTX 1050 Ti', 'brand': 'NVIDIA', 'lithography': '16 نانومتر', 'memory size': '29798', 'memory type': 'GDDR5'}\n",
      "{'model': 'Radeon RX 560', 'brand': 'AMD', 'lithography': '16 نانومتر', 'memory size': '29798', 'memory type': 'GDDR5'}\n",
      "{'model': 'Matrox M9188', 'brand': 'AMD', 'lithography': '16 نانومتر', 'memory size': '29797', 'memory type': 'GDDR5'}\n",
      "{'model': 'GeForce GTX 1050 TI', 'brand': 'NVIDIA', 'lithography': '16 نانومتر', 'memory size': '29798', 'memory type': 'GDDR5'}\n",
      "{'model': 'NVIDIA GeForce GTX 1080', 'brand': 'NVIDIA', 'lithography': '16 نانومتر', 'memory size': '29800', 'memory type': 'GDDR5X'}\n",
      "{'model': 'GeForce 210', 'brand': 'NVIDIA', 'lithography': '16 نانومتر', 'memory size': '29796', 'memory type': 'GDDR5X'}\n",
      "{'model': 'ATI Radeon™ R7 240', 'brand': 'AMD', 'lithography': '16 نانومتر', 'memory size': '4 گیگابایت', 'memory type': 'GDDR3'}\n",
      "{'model': 'Matrox C680', 'brand': 'AMD', 'lithography': '16 نانومتر', 'memory size': '29798', 'memory type': 'GDDR5'}\n",
      "{'model': 'GeForce GTX 1050 TI', 'brand': 'NVIDIA', 'lithography': '16 نانومتر', 'memory size': '29798', 'memory type': 'GDDR5'}\n",
      "{'model': 'Radeon RX 550', 'brand': 'AMD', 'lithography': '16 نانومتر', 'memory size': '29798', 'memory type': 'GDDR5'}\n",
      "{'model': 'GeForce GTX 1060', 'brand': 'NVIDIA', 'lithography': '16 نانومتر', 'memory size': '29799', 'memory type': 'GDDR5'}\n",
      "{'model': 'GeForce GTX 1070', 'brand': 'NVIDIA', 'lithography': '16 نانومتر', 'memory size': '29800', 'memory type': 'GDDR5'}\n"
     ]
    }
   ],
   "source": [
    "url = 'https://www.digikala.com/search/category-graphics-card/'\n",
    "base_url = 'https://www.digikala.com'\n",
    "keys = {\n",
    "    'تراشه':'model',\n",
    "    'سازنده تراشه':'brand',\n",
    "    'لیتوگرافی':'lithography',\n",
    "    'مقدار حافظه':'memory size',\n",
    "    'نوع حافظه':'memory type',\n",
    "}\n",
    "scrap(url,base_url,keys,gpu_worksheet,15)"
   ]
  },
  {
   "cell_type": "markdown",
   "metadata": {},
   "source": [
    "## Handsfree"
   ]
  },
  {
   "cell_type": "code",
   "execution_count": 71,
   "metadata": {},
   "outputs": [
    {
     "name": "stdout",
     "output_type": "stream",
     "text": [
      "{'impedance': '32', 'frequency': '8KHZ تا 100HZ', 'sensetivity': '45 دسی بل', 'weight': '4 گرم'}\n",
      "{'impedance': '32', 'frequency': '2.4', 'sensetivity': '42Db', 'weight': '12 گرم'}\n",
      "{'impedance': '32', 'frequency': '2.4', 'sensetivity': '42Db', 'weight': '9 گرم'}\n",
      "{'impedance': '32', 'frequency': '2.4', 'sensetivity': '42Db', 'weight': '9 گرم'}\n",
      "{'impedance': '32', 'frequency': '2.4', 'sensetivity': '42Db', 'weight': '6 گرم'}\n",
      "{'impedance': '32', 'frequency': '2.4', 'sensetivity': '42Db', 'weight': '4 گرم'}\n",
      "{'impedance': '32 اهم', 'frequency': '20 هرتز تا 20 کیلو هرتز', 'sensetivity': '42Db', 'weight': '4 گرم'}\n",
      "{'impedance': '32 اهم', 'frequency': '20 هرتز تا 20 کیلو هرتز', 'sensetivity': '42Db', 'weight': '4 گرم'}\n",
      "{'impedance': '32', 'frequency': '8KHZ تا 100HZ', 'sensetivity': '45 دسی بل', 'weight': '4 گرم'}\n",
      "{'impedance': '32', 'frequency': '8KHZ تا 100HZ', 'sensetivity': '45 دسی بل', 'weight': '80 گرم'}\n",
      "{'impedance': '32', 'frequency': '2.4', 'sensetivity': '45 دسی بل', 'weight': '12 گرم'}\n",
      "{'impedance': '32', 'frequency': '2.4', 'sensetivity': '45 دسی بل', 'weight': '12 گرم'}\n",
      "{'impedance': '32', 'frequency': '2.4', 'sensetivity': '45 دسی بل', 'weight': '14 گرم'}\n",
      "{'impedance': '32', 'frequency': '20-20000', 'sensetivity': '45 دسی بل', 'weight': '0.3 گرم'}\n",
      "{'impedance': '16 اهم', 'frequency': '20 - 20 کیلو هرتز', 'sensetivity': '42 دسی بل', 'weight': '5.3 گرم'}\n"
     ]
    }
   ],
   "source": [
    "url = 'https://www.digikala.com/search/category-handsfree/'\n",
    "base_url = 'https://www.digikala.com'\n",
    "keys = {\n",
    "    'امپدانس':'impedance',\n",
    "    'پاسخ فرکانسی':'frequency',\n",
    "    'حساسیت':'sensetivity',\n",
    "    'وزن':'weight',\n",
    "}\n",
    "scrap(url,base_url,keys,handsfree_worksheet,15)"
   ]
  },
  {
   "cell_type": "markdown",
   "metadata": {},
   "source": [
    "## SSD"
   ]
  },
  {
   "cell_type": "code",
   "execution_count": 72,
   "metadata": {},
   "outputs": [
    {
     "name": "stdout",
     "output_type": "stream",
     "text": [
      "{'capacity': '250 گیگابایت', 'read speed': '550mb/s', 'write speed': '520mb/s'}\n",
      "{'capacity': '120 گیگابایت', 'read speed': '545 مگابایت بر ثانیه', 'write speed': '520mb/s'}\n",
      "{'capacity': '250 گیگابایت', 'read speed': 'تا 3400 مگابایت بر ثانیه', 'write speed': 'تا 1500 مگابایت بر ثانیه'}\n",
      "{'capacity': '500 گیگابایت', 'read speed': '550mb/s', 'write speed': '520mb/s'}\n",
      "{'capacity': '1.92 ترابایت', 'read speed': '940 MiB/s', 'write speed': '925 MiB/s'}\n",
      "{'capacity': '240 گیگابایت', 'read speed': '545 مگابایت بر ثانیه', 'write speed': '925 MiB/s'}\n",
      "{'capacity': '120 گیگابایت', 'read speed': '545 مگابایت بر ثانیه', 'write speed': '925 MiB/s'}\n",
      "{'capacity': '120 گیگابایت', 'read speed': '550 مگابایت', 'write speed': '420 مگابایت'}\n",
      "{'capacity': '120 گیگابایت', 'read speed': '520MB/S', 'write speed': '450MB/S'}\n",
      "{'capacity': '256 گیگابایت', 'read speed': '540', 'write speed': '500'}\n",
      "{'capacity': '1 ترابایت', 'read speed': 'تا 550 مگابایت بر ثانیه', 'write speed': 'تا 520 مگابایت بر ثانیه'}\n",
      "{'capacity': '240 گیگابایت', 'read speed': '560', 'write speed': '520'}\n",
      "{'capacity': '120 گیگابایت', 'read speed': '520', 'write speed': '450'}\n",
      "{'capacity': '240 گیگابایت', 'read speed': '550 مگابایت', 'write speed': '450 مگابایت'}\n",
      "{'capacity': '256 گیگابایت', 'read speed': '550 مگابایت', 'write speed': '450 مگابایت'}\n"
     ]
    }
   ],
   "source": [
    "url = 'https://www.digikala.com/search/category-ssd-memory/'\n",
    "base_url = 'https://www.digikala.com'\n",
    "keys = {\n",
    "    'ظرفیت':'capacity',\n",
    "    'سرعت خواندن اطلاعات به صورت ترتیبی':'read speed',\n",
    "    'سرعت نوشتن اطلاعات به صورت ترتیبی':'write speed',\n",
    "}\n",
    "scrap(url,base_url,keys,ssd_worksheet,15)\n"
   ]
  },
  {
   "cell_type": "code",
   "execution_count": 73,
   "metadata": {
    "collapsed": true
   },
   "outputs": [],
   "source": [
    "workbook.close()"
   ]
  },
  {
   "cell_type": "code",
   "execution_count": null,
   "metadata": {
    "collapsed": true
   },
   "outputs": [],
   "source": []
  }
 ],
 "metadata": {
  "kernelspec": {
   "display_name": "Python 3",
   "language": "python",
   "name": "python3"
  },
  "language_info": {
   "codemirror_mode": {
    "name": "ipython",
    "version": 3
   },
   "file_extension": ".py",
   "mimetype": "text/x-python",
   "name": "python",
   "nbconvert_exporter": "python",
   "pygments_lexer": "ipython3",
   "version": "3.6.2"
  }
 },
 "nbformat": 4,
 "nbformat_minor": 2
}
